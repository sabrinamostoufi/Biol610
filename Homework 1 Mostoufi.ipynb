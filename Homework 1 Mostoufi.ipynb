{
 "cells": [
  {
   "cell_type": "markdown",
   "metadata": {},
   "source": [
    "# Problem 1 "
   ]
  },
  {
   "cell_type": "code",
   "execution_count": 53,
   "metadata": {},
   "outputs": [
    {
     "name": "stdout",
     "output_type": "stream",
     "text": [
      "The variance of a sample (aList) of n numbers is 50.800000000000004\n"
     ]
    }
   ],
   "source": [
    "#a list of numbers\n",
    "aList = [1,5,7,9,20]\n",
    "\n",
    "n = len(aList)\n",
    "#print(n)\n",
    "\n",
    "sm = 0\n",
    "for x in aList:\n",
    "    sm = sm + x\n",
    "    num_sum = sm\n",
    "#print(num_sum)\n",
    "\n",
    "num_avg = num_sum/n\n",
    "#print(num_avg)\n",
    "\n",
    "var_sum = 0\n",
    "for x in aList:\n",
    "    y = (x - num_avg)* (x - num_avg)\n",
    "    #print (y)\n",
    "    var_sum = var_sum + y\n",
    "#print(var_sum)\n",
    "\n",
    "variance = (1/(n-1))*var_sum\n",
    "\n",
    "print(\"The variance of a sample (aList) of\",\n",
    "      \"n numbers is\", variance)"
   ]
  },
  {
   "cell_type": "code",
   "execution_count": 42,
   "metadata": {},
   "outputs": [
    {
     "name": "stdout",
     "output_type": "stream",
     "text": [
      "50.800000000000004\n"
     ]
    }
   ],
   "source": [
    "import statistics\n",
    "\n",
    "check = statistics.variance(aList)\n",
    "print(check)"
   ]
  },
  {
   "cell_type": "markdown",
   "metadata": {},
   "source": [
    "# Problem 2"
   ]
  },
  {
   "cell_type": "code",
   "execution_count": 64,
   "metadata": {},
   "outputs": [
    {
     "name": "stdout",
     "output_type": "stream",
     "text": [
      "ATCTGTA\n"
     ]
    }
   ],
   "source": [
    "def complement(seq):\n",
    "    complement = {'A': 'T', 'T':'A', 'G':'C', 'C':'G'}\n",
    "    bases = list(seq)\n",
    "    bases = [complement[base] for base in bases]\n",
    "    return ''.join(bases)\n",
    "def reverse_complement(s):\n",
    "    return complement(s[::-1])\n",
    "\n",
    "\n",
    "print (reverse_complement(\"TACAGAT\"))"
   ]
  },
  {
   "cell_type": "code",
   "execution_count": null,
   "metadata": {},
   "outputs": [],
   "source": []
  },
  {
   "cell_type": "markdown",
   "metadata": {},
   "source": [
    "# Problem 3"
   ]
  },
  {
   "cell_type": "code",
   "execution_count": 23,
   "metadata": {},
   "outputs": [
    {
     "name": "stdout",
     "output_type": "stream",
     "text": [
      "Total sum from 1000 rolls is 3474\n",
      "Average from rolls is 3.474\n"
     ]
    }
   ],
   "source": [
    "import random\n",
    "\n",
    "sum_roll = 0\n",
    "b = 0\n",
    "avg_roll = 0\n",
    "\n",
    "a = 1000\n",
    "#a is number of simulated rolls\n",
    "\n",
    "for x in range(a):\n",
    "    #print(random.randint(1,6))\n",
    "    x = random.randint(1,6)\n",
    "    #print (x)\n",
    "    sum_roll = sum_roll + x\n",
    "    b = sum_roll\n",
    "\n",
    "print(\"Total sum from 1000 rolls is\", b)\n",
    "avg_roll = b/a\n",
    "print(\"Average from rolls is\", avg_roll)"
   ]
  },
  {
   "cell_type": "markdown",
   "metadata": {},
   "source": [
    "This result does make sense, because each side of the die should have an equal chance of landing and the average of rolling all of those numbers once (1,2,3,4,5,6) is also 3.5."
   ]
  },
  {
   "cell_type": "code",
   "execution_count": null,
   "metadata": {},
   "outputs": [],
   "source": []
  }
 ],
 "metadata": {
  "kernelspec": {
   "display_name": "Python 3",
   "language": "python",
   "name": "python3"
  },
  "language_info": {
   "codemirror_mode": {
    "name": "ipython",
    "version": 3
   },
   "file_extension": ".py",
   "mimetype": "text/x-python",
   "name": "python",
   "nbconvert_exporter": "python",
   "pygments_lexer": "ipython3",
   "version": "3.7.1"
  }
 },
 "nbformat": 4,
 "nbformat_minor": 2
}
